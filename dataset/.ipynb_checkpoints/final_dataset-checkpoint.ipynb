{
 "cells": [
  {
   "cell_type": "code",
   "execution_count": 2,
   "metadata": {},
   "outputs": [
    {
     "name": "stderr",
     "output_type": "stream",
     "text": [
      "[nltk_data] Downloading package stopwords to\n",
      "[nltk_data]     /Users/carnellzhou/nltk_data...\n",
      "[nltk_data]   Package stopwords is already up-to-date!\n"
     ]
    }
   ],
   "source": [
    "import pandas as pd\n",
    "pd.set_option('display.max_columns', None)\n",
    "\n",
    "import nltk\n",
    "from nltk.corpus import stopwords\n",
    "\n",
    "import ssl\n",
    "\n",
    "try:\n",
    "    _create_unverified_https_context = ssl._create_unverified_context\n",
    "except AttributeError:\n",
    "    pass\n",
    "else:\n",
    "    ssl._create_default_https_context = _create_unverified_https_context\n",
    "    \n",
    "nltk.download('stopwords')\n",
    "stopwords = set(stopwords.words('english'))"
   ]
  },
  {
   "cell_type": "code",
   "execution_count": 3,
   "metadata": {
    "scrolled": true
   },
   "outputs": [
    {
     "name": "stderr",
     "output_type": "stream",
     "text": [
      "/Library/Frameworks/Python.framework/Versions/3.7/lib/python3.7/site-packages/IPython/core/interactiveshell.py:3553: DtypeWarning: Columns (15,17,20,41,42,43,44,50,67,74) have mixed types.Specify dtype option on import or set low_memory=False.\n",
      "  exec(code_obj, self.user_global_ns, self.user_ns)\n"
     ]
    }
   ],
   "source": [
    "wasabi_songs_raw = pd.read_csv('data/wasabi/wasabi_songs.csv',  sep='\\t')"
   ]
  },
  {
   "cell_type": "code",
   "execution_count": 4,
   "metadata": {},
   "outputs": [
    {
     "name": "stderr",
     "output_type": "stream",
     "text": [
      "/Library/Frameworks/Python.framework/Versions/3.7/lib/python3.7/site-packages/pandas/util/_decorators.py:311: ParserWarning: Falling back to the 'python' engine because the 'c' engine does not support regex separators (separators > 1 char and different from '\\s+' are interpreted as regex); you can avoid this warning by specifying engine='python'.\n",
      "  return func(*args, **kwargs)\n"
     ]
    }
   ],
   "source": [
    "mxm_songs_raw = pd.read_csv('data/mxm/mxm_songs.csv', sep='<SEP>')"
   ]
  },
  {
   "cell_type": "code",
   "execution_count": 5,
   "metadata": {},
   "outputs": [],
   "source": [
    "artists_21_raw = pd.read_csv('data/21-artist/21_artists_merged.csv')"
   ]
  },
  {
   "cell_type": "code",
   "execution_count": 6,
   "metadata": {},
   "outputs": [],
   "source": [
    "emotion_tags_dict = pd.read_pickle(\"data/wasabi/lastfm_id_to_emotion_tags.pickle\")\n",
    "social_tags_dict = pd.read_pickle(\"data/wasabi/lastfm_id_to_social_tags.pickle\")"
   ]
  },
  {
   "cell_type": "code",
   "execution_count": 7,
   "metadata": {},
   "outputs": [],
   "source": [
    "# remove unwanted columns\n",
    "wasabi_songs = wasabi_songs_raw[['artist', 'title', 'albumTitle', 'album_genre', 'lastfm_id', 'urlDeezer', 'urlSpotify']]\n",
    "mxm_songs = mxm_songs_raw[['tid', 'artist_name', 'title', 'mxm tid']]\n",
    "artists_21 = artists_21_raw[['Artist', 'Title', 'Album', 'Lyric']]"
   ]
  },
  {
   "cell_type": "code",
   "execution_count": 8,
   "metadata": {},
   "outputs": [],
   "source": [
    "# rename columns to standard names\n",
    "wasabi_songs = wasabi_songs.rename(columns={'albumTitle': 'album_title', 'urlSpotify': 'spotify_url', 'urlDeezer': 'deezer_url', 'lastfm_id': 'msd_tid'})\n",
    "mxm_songs = mxm_songs.rename(columns={'tid': 'msd_tid', 'artist_name': 'artist', 'mxm tid': 'mxm_tid'})\n",
    "artists_21 = artists_21.rename(columns={'Artist': 'artist', 'Title': 'title', 'Album': 'album', 'Lyric': 'lyrics'})"
   ]
  },
  {
   "cell_type": "code",
   "execution_count": 9,
   "metadata": {},
   "outputs": [],
   "source": [
    "# remove arist names from song titles with multiple artists\n",
    "wasabi_songs.loc[:, ('title')] = wasabi_songs.loc[:, ('title')].str.replace('^[^:]+:\\s*','', regex=True)"
   ]
  },
  {
   "cell_type": "code",
   "execution_count": 10,
   "metadata": {},
   "outputs": [],
   "source": [
    "REMOVE_STOPWORDS = False\n",
    "\n",
    "mxm_songs_to_lyrics = dict()\n",
    "\n",
    "# adapted from https://github.com/areevesman/lyric-embeddings/blob/master/train_example.ipynb\n",
    "with open('data/mxm/mxm_dataset_train.txt') as f:\n",
    "    lines = f.readlines()\n",
    "    words = lines[17].replace('%','').split(',')\n",
    "    \n",
    "    song_rows = lines[18:]\n",
    "    for i, row in enumerate(song_rows):\n",
    "        song_info = row.split(',')\n",
    "        msd_tid = song_info[0]\n",
    "        mxm_tid = int(song_info[1])\n",
    "        song_bow = [x.split(':') for x in song_info[2:]]\n",
    "        song_dict = {}\n",
    "        \n",
    "        for word, word_count in song_bow:\n",
    "            song_dict[int(word)] = int(word_count.replace('\\n',''))\n",
    "            \n",
    "        word_lists = [[words[word-1]]*song_dict[word] for word in song_dict.keys()]\n",
    "        \n",
    "        song = [word for word_list in word_lists for word in word_list]\n",
    "        if REMOVE_STOPWORDS:\n",
    "            song = [w for w in song if w not in stopwords]\n",
    "        mxm_songs_to_lyrics[(str(msd_tid), mxm_tid)] = ' '.join(song).replace('\\n','')"
   ]
  },
  {
   "cell_type": "code",
   "execution_count": 11,
   "metadata": {},
   "outputs": [
    {
     "data": {
      "text/html": [
       "<div>\n",
       "<style scoped>\n",
       "    .dataframe tbody tr th:only-of-type {\n",
       "        vertical-align: middle;\n",
       "    }\n",
       "\n",
       "    .dataframe tbody tr th {\n",
       "        vertical-align: top;\n",
       "    }\n",
       "\n",
       "    .dataframe thead th {\n",
       "        text-align: right;\n",
       "    }\n",
       "</style>\n",
       "<table border=\"1\" class=\"dataframe\">\n",
       "  <thead>\n",
       "    <tr style=\"text-align: right;\">\n",
       "      <th></th>\n",
       "      <th>msd_tid</th>\n",
       "      <th>mxm_tid</th>\n",
       "      <th>mxm_lyrics</th>\n",
       "    </tr>\n",
       "  </thead>\n",
       "  <tbody>\n",
       "    <tr>\n",
       "      <th>0</th>\n",
       "      <td>TRAAAAV128F421A322</td>\n",
       "      <td>4623710</td>\n",
       "      <td>i i i i i i the the the the you you to to and ...</td>\n",
       "    </tr>\n",
       "    <tr>\n",
       "      <th>1</th>\n",
       "      <td>TRAAABD128F429CF47</td>\n",
       "      <td>6477168</td>\n",
       "      <td>i i i i i i i i i i you you you you you you yo...</td>\n",
       "    </tr>\n",
       "    <tr>\n",
       "      <th>2</th>\n",
       "      <td>TRAAAED128E0783FAB</td>\n",
       "      <td>2516445</td>\n",
       "      <td>i i i i i i i i i i i i i i i i i i i i i i i ...</td>\n",
       "    </tr>\n",
       "    <tr>\n",
       "      <th>3</th>\n",
       "      <td>TRAAAEF128F4273421</td>\n",
       "      <td>3759847</td>\n",
       "      <td>i i i i i the the the the you you you to to an...</td>\n",
       "    </tr>\n",
       "    <tr>\n",
       "      <th>4</th>\n",
       "      <td>TRAAAEW128F42930C0</td>\n",
       "      <td>3783760</td>\n",
       "      <td>i i i i to to to to to and and and and and and...</td>\n",
       "    </tr>\n",
       "  </tbody>\n",
       "</table>\n",
       "</div>"
      ],
      "text/plain": [
       "              msd_tid  mxm_tid  \\\n",
       "0  TRAAAAV128F421A322  4623710   \n",
       "1  TRAAABD128F429CF47  6477168   \n",
       "2  TRAAAED128E0783FAB  2516445   \n",
       "3  TRAAAEF128F4273421  3759847   \n",
       "4  TRAAAEW128F42930C0  3783760   \n",
       "\n",
       "                                          mxm_lyrics  \n",
       "0  i i i i i i the the the the you you to to and ...  \n",
       "1  i i i i i i i i i i you you you you you you yo...  \n",
       "2  i i i i i i i i i i i i i i i i i i i i i i i ...  \n",
       "3  i i i i i the the the the you you you to to an...  \n",
       "4  i i i i to to to to to and and and and and and...  "
      ]
     },
     "execution_count": 11,
     "metadata": {},
     "output_type": "execute_result"
    }
   ],
   "source": [
    "df = {\n",
    "    'msd_tid': list([msd_tid for (msd_tid, _) in mxm_songs_to_lyrics.keys()]),\n",
    "    'mxm_tid': list([mxm_tid for (_, mxm_tid) in mxm_songs_to_lyrics.keys()]),\n",
    "    'mxm_lyrics': [mxm_songs_to_lyrics[k] for k in mxm_songs_to_lyrics.keys()]\n",
    "}\n",
    "\n",
    "mxm_lyrics = pd.DataFrame.from_dict(df)\n",
    "\n",
    "mxm_lyrics.head()"
   ]
  },
  {
   "cell_type": "code",
   "execution_count": 12,
   "metadata": {},
   "outputs": [],
   "source": [
    "# merge mxm songs with mxm lyrics\n",
    "mxm_songs_with_lyrics = mxm_songs.merge(mxm_lyrics, on=['msd_tid', 'mxm_tid'])"
   ]
  },
  {
   "cell_type": "code",
   "execution_count": 13,
   "metadata": {},
   "outputs": [],
   "source": [
    "# convert emotion and social tag dictionaries to data frames\n",
    "\n",
    "emotion = {\n",
    "    \"msd_tid\": emotion_tags_dict.keys(),\n",
    "    \"emotion_tags\": list(emotion_tags_dict[msd_tid] for msd_tid in emotion_tags_dict.keys())\n",
    "}\n",
    "\n",
    "emotion_df = pd.DataFrame.from_dict(emotion)\n",
    "\n",
    "social = {\n",
    "    \"msd_tid\": social_tags_dict.keys(),\n",
    "    \"social_tags\": list(social_tags_dict[msd_tid] for msd_tid in social_tags_dict.keys())\n",
    "}\n",
    "\n",
    "social_df = pd.DataFrame.from_dict(social)"
   ]
  },
  {
   "cell_type": "code",
   "execution_count": 14,
   "metadata": {},
   "outputs": [],
   "source": [
    "# left join wasabi with emotion and social tags\n",
    "\n",
    "emotion_social_df = emotion_df.merge(social_df, on=['msd_tid'], how='outer')\n",
    "\n",
    "wasabi_with_emotion_social_tags = wasabi_songs.merge(emotion_social_df, on=['msd_tid'], how='left')"
   ]
  },
  {
   "cell_type": "code",
   "execution_count": 15,
   "metadata": {},
   "outputs": [],
   "source": [
    "# inner join wasabi and mxm based on msd (million song dataset) tid's\n",
    "wasabi_merge_mxm = wasabi_with_emotion_social_tags.merge(mxm_songs_with_lyrics, on=['msd_tid'], suffixes=('', '_y'))\n",
    "\n",
    "# remove duplicate columns\n",
    "wasabi_merge_mxm.drop(wasabi_merge_mxm.filter(regex='_y$').columns, axis=1, inplace=True)"
   ]
  },
  {
   "cell_type": "code",
   "execution_count": 16,
   "metadata": {},
   "outputs": [],
   "source": [
    "# standardize title and artist name for inner join\n",
    "\n",
    "def standardize(df):\n",
    "    return df.str.lower().str.strip() \\\n",
    "        .str.normalize('NFKD') \\\n",
    "        .str.replace('[^a-zA-Z\\d:]','', regex=True) \\\n",
    "        .str.encode('ascii', errors='ignore') \\\n",
    "        .str.decode('utf-8')\n",
    "\n",
    "wasabi_merge_mxm['title_standardized'] = standardize(wasabi_merge_mxm['title'])\n",
    "wasabi_merge_mxm['artist_standardized'] = standardize(wasabi_merge_mxm['artist'])\n",
    "\n",
    "wasabi_songs['title_standardized'] = standardize(wasabi_songs['title'])\n",
    "wasabi_songs['artist_standardized'] = standardize(wasabi_songs['artist'])\n",
    "\n",
    "artists_21['title_standardized'] = standardize(artists_21['title'])\n",
    "artists_21['artist_standardized'] = standardize(artists_21['artist'])"
   ]
  },
  {
   "cell_type": "code",
   "execution_count": 17,
   "metadata": {},
   "outputs": [],
   "source": [
    "# left join wasabi and 21 artists on the standardized song titles and artists\n",
    "artist_21_merge_wasabi = artists_21.merge(wasabi_songs, on=['title_standardized', 'artist_standardized'], how=\"left\", suffixes=('', '_y'))\n",
    "# remove duplicate columns\n",
    "artist_21_merge_wasabi.drop(artist_21_merge_wasabi.filter(regex='_y$').columns, axis=1, inplace=True)\n"
   ]
  },
  {
   "cell_type": "code",
   "execution_count": 18,
   "metadata": {},
   "outputs": [],
   "source": [
    "# outer join (wasabi + 21 artists) and (wasabi + mxm) on standardized song titles and artists\n",
    "\n",
    "final_df = artist_21_merge_wasabi.merge(wasabi_merge_mxm, on=['title_standardized', 'artist_standardized'], how=\"outer\", suffixes=('', '_y'))\n",
    "\n",
    "# remove duplicate columns\n",
    "final_df.drop(final_df.filter(regex='_y$').columns, axis=1, inplace=True)\n"
   ]
  },
  {
   "cell_type": "code",
   "execution_count": 19,
   "metadata": {},
   "outputs": [
    {
     "data": {
      "text/plain": [
       "174808"
      ]
     },
     "execution_count": 19,
     "metadata": {},
     "output_type": "execute_result"
    }
   ],
   "source": [
    "final_df.shape[0]"
   ]
  },
  {
   "cell_type": "code",
   "execution_count": 20,
   "metadata": {},
   "outputs": [
    {
     "data": {
      "text/html": [
       "<div>\n",
       "<style scoped>\n",
       "    .dataframe tbody tr th:only-of-type {\n",
       "        vertical-align: middle;\n",
       "    }\n",
       "\n",
       "    .dataframe tbody tr th {\n",
       "        vertical-align: top;\n",
       "    }\n",
       "\n",
       "    .dataframe thead th {\n",
       "        text-align: right;\n",
       "    }\n",
       "</style>\n",
       "<table border=\"1\" class=\"dataframe\">\n",
       "  <thead>\n",
       "    <tr style=\"text-align: right;\">\n",
       "      <th></th>\n",
       "      <th>artist</th>\n",
       "      <th>title</th>\n",
       "      <th>album</th>\n",
       "      <th>lyrics</th>\n",
       "      <th>title_standardized</th>\n",
       "      <th>artist_standardized</th>\n",
       "      <th>album_title</th>\n",
       "      <th>album_genre</th>\n",
       "      <th>msd_tid</th>\n",
       "      <th>deezer_url</th>\n",
       "      <th>spotify_url</th>\n",
       "      <th>emotion_tags</th>\n",
       "      <th>social_tags</th>\n",
       "      <th>mxm_tid</th>\n",
       "      <th>mxm_lyrics</th>\n",
       "    </tr>\n",
       "  </thead>\n",
       "  <tbody>\n",
       "    <tr>\n",
       "      <th>0</th>\n",
       "      <td>Beyoncé</td>\n",
       "      <td>Drunk in Love</td>\n",
       "      <td>BEYONCÉ</td>\n",
       "      <td>beyoncé i've been drinkin' i've been drinkin' ...</td>\n",
       "      <td>drunkinlove</td>\n",
       "      <td>beyonce</td>\n",
       "      <td>Beyoncé</td>\n",
       "      <td>R&amp;amp;B</td>\n",
       "      <td>NaN</td>\n",
       "      <td>http://www.deezer.com/track/73724283</td>\n",
       "      <td>https://play.spotify.com/track/5EmCpD8tUj78VW3...</td>\n",
       "      <td>NaN</td>\n",
       "      <td>NaN</td>\n",
       "      <td>NaN</td>\n",
       "      <td>NaN</td>\n",
       "    </tr>\n",
       "    <tr>\n",
       "      <th>1</th>\n",
       "      <td>Beyoncé</td>\n",
       "      <td>Formation</td>\n",
       "      <td>Lemonade</td>\n",
       "      <td>messy mya what happened at the new wil'ins bit...</td>\n",
       "      <td>formation</td>\n",
       "      <td>beyonce</td>\n",
       "      <td>Other Songs</td>\n",
       "      <td>NaN</td>\n",
       "      <td>NaN</td>\n",
       "      <td>NaN</td>\n",
       "      <td>NaN</td>\n",
       "      <td>NaN</td>\n",
       "      <td>NaN</td>\n",
       "      <td>NaN</td>\n",
       "      <td>NaN</td>\n",
       "    </tr>\n",
       "    <tr>\n",
       "      <th>2</th>\n",
       "      <td>Beyoncé</td>\n",
       "      <td>Partition</td>\n",
       "      <td>BEYONCÉ</td>\n",
       "      <td>part  yoncé   let me hear you say hey ms carte...</td>\n",
       "      <td>partition</td>\n",
       "      <td>beyonce</td>\n",
       "      <td>Beyoncé</td>\n",
       "      <td>R&amp;amp;B</td>\n",
       "      <td>NaN</td>\n",
       "      <td>http://www.deezer.com/track/75955393</td>\n",
       "      <td>https://play.spotify.com/track/2vPTtiR7x7T6Lr1...</td>\n",
       "      <td>NaN</td>\n",
       "      <td>NaN</td>\n",
       "      <td>NaN</td>\n",
       "      <td>NaN</td>\n",
       "    </tr>\n",
       "    <tr>\n",
       "      <th>3</th>\n",
       "      <td>Beyoncé</td>\n",
       "      <td>Mine</td>\n",
       "      <td>BEYONCÉ</td>\n",
       "      <td>beyoncé i've been watching for the signs took ...</td>\n",
       "      <td>mine</td>\n",
       "      <td>beyonce</td>\n",
       "      <td>Beyoncé</td>\n",
       "      <td>R&amp;amp;B</td>\n",
       "      <td>NaN</td>\n",
       "      <td>http://www.deezer.com/track/80455986</td>\n",
       "      <td>https://play.spotify.com/track/40owR7p9BuUhtj5...</td>\n",
       "      <td>NaN</td>\n",
       "      <td>NaN</td>\n",
       "      <td>NaN</td>\n",
       "      <td>NaN</td>\n",
       "    </tr>\n",
       "    <tr>\n",
       "      <th>4</th>\n",
       "      <td>Beyoncé</td>\n",
       "      <td>Hold Up</td>\n",
       "      <td>Lemonade</td>\n",
       "      <td>hold up they don't love you like i love you sl...</td>\n",
       "      <td>holdup</td>\n",
       "      <td>beyonce</td>\n",
       "      <td>NaN</td>\n",
       "      <td>NaN</td>\n",
       "      <td>NaN</td>\n",
       "      <td>NaN</td>\n",
       "      <td>NaN</td>\n",
       "      <td>NaN</td>\n",
       "      <td>NaN</td>\n",
       "      <td>NaN</td>\n",
       "      <td>NaN</td>\n",
       "    </tr>\n",
       "  </tbody>\n",
       "</table>\n",
       "</div>"
      ],
      "text/plain": [
       "    artist          title     album  \\\n",
       "0  Beyoncé  Drunk in Love   BEYONCÉ   \n",
       "1  Beyoncé      Formation  Lemonade   \n",
       "2  Beyoncé      Partition   BEYONCÉ   \n",
       "3  Beyoncé           Mine   BEYONCÉ   \n",
       "4  Beyoncé        Hold Up  Lemonade   \n",
       "\n",
       "                                              lyrics title_standardized  \\\n",
       "0  beyoncé i've been drinkin' i've been drinkin' ...        drunkinlove   \n",
       "1  messy mya what happened at the new wil'ins bit...          formation   \n",
       "2  part  yoncé   let me hear you say hey ms carte...          partition   \n",
       "3  beyoncé i've been watching for the signs took ...               mine   \n",
       "4  hold up they don't love you like i love you sl...             holdup   \n",
       "\n",
       "  artist_standardized  album_title album_genre msd_tid  \\\n",
       "0             beyonce      Beyoncé     R&amp;B     NaN   \n",
       "1             beyonce  Other Songs         NaN     NaN   \n",
       "2             beyonce      Beyoncé     R&amp;B     NaN   \n",
       "3             beyonce      Beyoncé     R&amp;B     NaN   \n",
       "4             beyonce          NaN         NaN     NaN   \n",
       "\n",
       "                             deezer_url  \\\n",
       "0  http://www.deezer.com/track/73724283   \n",
       "1                                   NaN   \n",
       "2  http://www.deezer.com/track/75955393   \n",
       "3  http://www.deezer.com/track/80455986   \n",
       "4                                   NaN   \n",
       "\n",
       "                                         spotify_url emotion_tags social_tags  \\\n",
       "0  https://play.spotify.com/track/5EmCpD8tUj78VW3...          NaN         NaN   \n",
       "1                                                NaN          NaN         NaN   \n",
       "2  https://play.spotify.com/track/2vPTtiR7x7T6Lr1...          NaN         NaN   \n",
       "3  https://play.spotify.com/track/40owR7p9BuUhtj5...          NaN         NaN   \n",
       "4                                                NaN          NaN         NaN   \n",
       "\n",
       "   mxm_tid mxm_lyrics  \n",
       "0      NaN        NaN  \n",
       "1      NaN        NaN  \n",
       "2      NaN        NaN  \n",
       "3      NaN        NaN  \n",
       "4      NaN        NaN  "
      ]
     },
     "execution_count": 20,
     "metadata": {},
     "output_type": "execute_result"
    }
   ],
   "source": [
    "final_df.head()"
   ]
  },
  {
   "cell_type": "code",
   "execution_count": 21,
   "metadata": {},
   "outputs": [
    {
     "data": {
      "text/plain": [
       "150311"
      ]
     },
     "execution_count": 21,
     "metadata": {},
     "output_type": "execute_result"
    }
   ],
   "source": [
    "final_df[final_df['social_tags'].notna() | final_df['emotion_tags'].notna()].shape[0]"
   ]
  },
  {
   "cell_type": "code",
   "execution_count": 22,
   "metadata": {},
   "outputs": [
    {
     "data": {
      "text/plain": [
       "0                                                       NaN\n",
       "1                                                       NaN\n",
       "2                                                       NaN\n",
       "3                                                       NaN\n",
       "4                                                       NaN\n",
       "                                ...                        \n",
       "174803    [(hip-hop, 100), (rap, 90), (gangsta rap, 55),...\n",
       "174804                                                  NaN\n",
       "174805    [(rap, 100), (hip-hop, 58), (soundtrack, 37), ...\n",
       "174806    [(rap, 100), (50 cent, 50), (g-unit, 50), (gan...\n",
       "174807    [(rap, 100), (hip-hop, 28), (g-unit, 28), (gan...\n",
       "Name: social_tags, Length: 174808, dtype: object"
      ]
     },
     "execution_count": 22,
     "metadata": {},
     "output_type": "execute_result"
    }
   ],
   "source": [
    "final_df['social_tags']"
   ]
  },
  {
   "cell_type": "code",
   "execution_count": 24,
   "metadata": {},
   "outputs": [
    {
     "ename": "AttributeError",
     "evalue": "module 'pandas' has no attribute 'final_df_to_csv'",
     "output_type": "error",
     "traceback": [
      "\u001b[0;31m---------------------------------------------------------------------------\u001b[0m",
      "\u001b[0;31mAttributeError\u001b[0m                            Traceback (most recent call last)",
      "\u001b[0;32m/var/folders/sf/rssxt4p94bg42j1gf45l7lxc0000gn/T/ipykernel_99699/335025533.py\u001b[0m in \u001b[0;36m<module>\u001b[0;34m\u001b[0m\n\u001b[0;32m----> 1\u001b[0;31m \u001b[0mpd\u001b[0m\u001b[0;34m.\u001b[0m\u001b[0mfinal_df_to_csv\u001b[0m\u001b[0;34m(\u001b[0m\u001b[0;34m'final_df.csv'\u001b[0m\u001b[0;34m)\u001b[0m\u001b[0;34m\u001b[0m\u001b[0;34m\u001b[0m\u001b[0m\n\u001b[0m",
      "\u001b[0;32m/Library/Frameworks/Python.framework/Versions/3.7/lib/python3.7/site-packages/pandas/__init__.py\u001b[0m in \u001b[0;36m__getattr__\u001b[0;34m(name)\u001b[0m\n\u001b[1;32m    242\u001b[0m         \u001b[0;32mreturn\u001b[0m \u001b[0m_SparseArray\u001b[0m\u001b[0;34m\u001b[0m\u001b[0;34m\u001b[0m\u001b[0m\n\u001b[1;32m    243\u001b[0m \u001b[0;34m\u001b[0m\u001b[0m\n\u001b[0;32m--> 244\u001b[0;31m     \u001b[0;32mraise\u001b[0m \u001b[0mAttributeError\u001b[0m\u001b[0;34m(\u001b[0m\u001b[0;34mf\"module 'pandas' has no attribute '{name}'\"\u001b[0m\u001b[0;34m)\u001b[0m\u001b[0;34m\u001b[0m\u001b[0;34m\u001b[0m\u001b[0m\n\u001b[0m\u001b[1;32m    245\u001b[0m \u001b[0;34m\u001b[0m\u001b[0m\n\u001b[1;32m    246\u001b[0m \u001b[0;34m\u001b[0m\u001b[0m\n",
      "\u001b[0;31mAttributeError\u001b[0m: module 'pandas' has no attribute 'final_df_to_csv'"
     ]
    }
   ],
   "source": [
    "pd.final_df.to_csv('final_df.csv')"
   ]
  },
  {
   "cell_type": "code",
   "execution_count": null,
   "metadata": {},
   "outputs": [],
   "source": []
  }
 ],
 "metadata": {
  "kernelspec": {
   "display_name": "Python 3 (ipykernel)",
   "language": "python",
   "name": "python3"
  },
  "language_info": {
   "codemirror_mode": {
    "name": "ipython",
    "version": 3
   },
   "file_extension": ".py",
   "mimetype": "text/x-python",
   "name": "python",
   "nbconvert_exporter": "python",
   "pygments_lexer": "ipython3",
   "version": "3.7.6"
  }
 },
 "nbformat": 4,
 "nbformat_minor": 2
}
