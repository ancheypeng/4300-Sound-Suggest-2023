{
 "cells": [
  {
   "cell_type": "code",
   "execution_count": 3,
   "metadata": {},
   "outputs": [],
   "source": [
    "import pandas as pd\n",
    "import numpy as np\n",
    "import ast\n",
    "import json\n",
    "import re\n",
    "from collections import defaultdict"
   ]
  },
  {
   "cell_type": "code",
   "execution_count": 4,
   "metadata": {},
   "outputs": [
    {
     "name": "stdout",
     "output_type": "stream",
     "text": [
      "32028\n"
     ]
    }
   ],
   "source": [
    "df = pd.read_csv('data/final_dataset_reduced.csv')\n",
    "print(len(df))"
   ]
  },
  {
   "cell_type": "code",
   "execution_count": 5,
   "id": "87226350",
   "metadata": {},
   "outputs": [],
   "source": [
    "default_social_tags = {\n",
    " \"Ariana Grande\" : \"pop\",\n",
    " \"BTS (방탄소년단)\": \"pop\",\n",
    " \"Beyoncé\": \"rnb\",\n",
    " \"Billie Eilish\": \"indie pop\",\n",
    " \"Cardi B\": \"hip-hop\",\n",
    " \"Charlie Puth\": \"pop\",\n",
    " \"Coldplay\": \"alternative rock\",\n",
    " \"Drake\": \"hip-hop\",\n",
    " \"Dua Lipa\": \"pop\",\n",
    " \"Ed Sheeran\": \"pop\",\n",
    " \"Eminem\": \"hip-hop\",\n",
    " \"Justin Bieber\": \"pop\",\n",
    " \"Katy Perry\": \"pop\",\n",
    " \"Khalid\": \"rnb\",\n",
    " \"Lady Gaga\": \"pop\",\n",
    " \"Maroon5\": \"pop\",\n",
    " \"Nicki Minaj\": \"hip-hop\",\n",
    " \"Post Malone\": \"hip-hop\",\n",
    " \"Rihanna\": \"rnb\",\n",
    " \"Selena Gomez\": \"pop\",\n",
    " \"Taylor Swift\": \"pop\"\n",
    "}"
   ]
  },
  {
   "cell_type": "code",
   "execution_count": 6,
   "id": "3f46e7f0",
   "metadata": {},
   "outputs": [],
   "source": [
    "dataset_dict_list = df.to_dict('records')\n",
    "\n",
    "with open('data/good_tags.json', 'r') as fp:\n",
    "    good_tags = set(json.load(fp))\n",
    "    "
   ]
  },
  {
   "cell_type": "code",
   "execution_count": 7,
   "id": "244e51c1",
   "metadata": {},
   "outputs": [],
   "source": [
    "# dict of tags for each song as a weighted string ie. [\"pop pop pop pop\", \"hip-hop, hip-hop\"]\n",
    "weighted_list_of_str_tags = []\n",
    "\n",
    "for song_index, row in enumerate(dataset_dict_list):\n",
    "\n",
    "    song_social_tags = ast.literal_eval(row['social_tags']) if not pd.isna(row['social_tags']) else []\n",
    "    song_emotion_tags = ast.literal_eval(row['emotion_tags']) if not pd.isna(row['emotion_tags']) else []\n",
    "\n",
    "    # add default social tag to 21 artists\n",
    "    if row['artist'] in default_social_tags and len(song_social_tags) == 0:\n",
    "        song_social_tags = [(default_social_tags[row['artist']], 100)]\n",
    "\n",
    "    weighted_tags_list = []\n",
    "\n",
    "    for tag, value in (song_social_tags + song_emotion_tags):\n",
    "        if tag in good_tags:\n",
    "            # add the number of tags * (value // 10)\n",
    "            for i in range(value // 10):\n",
    "                weighted_tags_list.append(re.sub(r'\\W+', '', tag))\n",
    "    \n",
    "    weighted_list_of_str_tags.append(\" \".join(weighted_tags_list))"
   ]
  },
  {
   "cell_type": "code",
   "execution_count": 8,
   "metadata": {},
   "outputs": [],
   "source": [
    "from sklearn.feature_extraction.text import TfidfVectorizer"
   ]
  },
  {
   "cell_type": "code",
   "execution_count": 9,
   "metadata": {},
   "outputs": [],
   "source": [
    "vectorizer = TfidfVectorizer()\n",
    "td_matrix = vectorizer.fit_transform(weighted_list_of_str_tags)"
   ]
  },
  {
   "cell_type": "code",
   "execution_count": 10,
   "id": "2db482ff",
   "metadata": {},
   "outputs": [],
   "source": [
    "# feature_names = vectorizer.get_feature_names() \n",
    "# feature_names\n"
   ]
  },
  {
   "cell_type": "code",
   "execution_count": 11,
   "metadata": {},
   "outputs": [],
   "source": [
    "from scipy.sparse.linalg import svds\n",
    "# do SVD with a very large k (we usually use 100), just for the sake of getting many sorted singular values (aka importances)\n",
    "u,s,v_trans = svds(td_matrix, k=168)"
   ]
  },
  {
   "cell_type": "code",
   "execution_count": 12,
   "metadata": {},
   "outputs": [
    {
     "name": "stdout",
     "output_type": "stream",
     "text": [
      "(32028, 168)\n",
      "(168,)\n",
      "(168, 169)\n"
     ]
    }
   ],
   "source": [
    "print(u.shape)\n",
    "print(s.shape)\n",
    "print(v_trans.shape)"
   ]
  },
  {
   "cell_type": "code",
   "execution_count": 13,
   "metadata": {},
   "outputs": [
    {
     "data": {
      "image/png": "[encoded data removed]",
      "text/plain": [
       "<Figure size 432x288 with 1 Axes>"
      ]
     },
     "metadata": {},
     "output_type": "display_data"
    }
   ],
   "source": [
    "import matplotlib\n",
    "import numpy as np\n",
    "import matplotlib.pyplot as plt\n",
    "%matplotlib inline\n",
    "plt.plot(s[::-1])\n",
    "plt.xlabel(\"Singular value number\")\n",
    "plt.ylabel(\"Singular value\")\n",
    "plt.show()"
   ]
  },
  {
   "cell_type": "code",
   "execution_count": 14,
   "metadata": {},
   "outputs": [],
   "source": [
    "# these should be the three output matrices -> not sure if rest of code is important (normalization)\n",
    "songs_compressed, s, tags_compressed = svds(td_matrix, k=10)\n",
    "tags_compressed = tags_compressed.transpose()"
   ]
  },
  {
   "cell_type": "code",
   "execution_count": 15,
   "id": "8f394093",
   "metadata": {},
   "outputs": [
    {
     "name": "stdout",
     "output_type": "stream",
     "text": [
      "[[ 4.16373898e-03  3.18593782e-02 -6.14433769e-03 ... -3.01546253e-04\n",
      "  -1.06823596e-05  2.91452438e-04]\n",
      " [ 4.16373898e-03  3.18593782e-02 -6.14433769e-03 ... -3.01546253e-04\n",
      "  -1.06823596e-05  2.91452438e-04]\n",
      " [ 4.16373898e-03  3.18593782e-02 -6.14433769e-03 ... -3.01546253e-04\n",
      "  -1.06823596e-05  2.91452438e-04]\n",
      " ...\n",
      " [ 1.12308500e-02 -1.76289223e-03  2.58749539e-03 ...  3.50337261e-04\n",
      "   1.16972860e-02  1.83567156e-03]\n",
      " [ 8.32442828e-03  3.68141722e-04  1.10335167e-02 ...  2.77043520e-04\n",
      "   8.89630046e-03  1.30191445e-03]\n",
      " [ 1.12744140e-02 -3.68619152e-03 -5.57798557e-03 ...  3.10674925e-04\n",
      "   9.55362342e-03  3.42927354e-03]]\n"
     ]
    }
   ],
   "source": [
    "print(songs_compressed)"
   ]
  },
  {
   "cell_type": "code",
   "execution_count": 16,
   "id": "74b9f533",
   "metadata": {},
   "outputs": [],
   "source": [
    "# x = np.matmul(songs_compressed, s)\n",
    "# print(x.shape)\n",
    "# print(tags_compressed.shape)\n",
    "# x = np.matmul(tags_compressed, x )\n"
   ]
  },
  {
   "cell_type": "code",
   "execution_count": 17,
   "id": "68b3cef6",
   "metadata": {},
   "outputs": [],
   "source": [
    "# print(\"SVD matrix 1 (songs vs new tags)\")\n",
    "# print(songs_compressed.shape)\n",
    "# print(\"SVD matrix 2\")\n",
    "# print(s.shape)\n",
    "# print(\"SVD matrix 3: old tags x new tags\")\n",
    "# print(tags_compressed.shape)\n",
    "# print(\"matrix multiplication dimensions\")\n",
    "# songsXtags = songs_compressed @ tags_compressed.T\n",
    "# print(songsXtags.shape)\n",
    "\n"
   ]
  },
  {
   "cell_type": "code",
   "execution_count": 18,
   "metadata": {},
   "outputs": [],
   "source": [
    "# print(tags_compressed.shape)\n",
    "# print(songs_compressed.shape)\n",
    "# print(len(dataset_dict_list))"
   ]
  },
  {
   "cell_type": "code",
   "execution_count": 19,
   "id": "c58a6cb5",
   "metadata": {},
   "outputs": [],
   "source": [
    "def normalize(l):\n",
    "  normalized = []\n",
    "  for x in l:\n",
    "    normalized.append((x - min (l) )/(max(l) - min(l)))\n",
    "\n",
    "  return normalized"
   ]
  },
  {
   "cell_type": "code",
   "execution_count": 20,
   "id": "d5053df7",
   "metadata": {},
   "outputs": [
    {
     "name": "stderr",
     "output_type": "stream",
     "text": [
      "/Users/fjordrunner/cs4300-env/lib/python3.7/site-packages/ipykernel_launcher.py:4: RuntimeWarning: invalid value encountered in double_scalars\n",
      "  after removing the cwd from sys.path.\n"
     ]
    },
    {
     "data": {
      "text/plain": [
       "array([[0.41377673, 1.        , 0.19558952, ..., 0.31926171, 0.32541831,\n",
       "        0.33181349],\n",
       "       [0.41377673, 1.        , 0.19558952, ..., 0.31926171, 0.32541831,\n",
       "        0.33181349],\n",
       "       [0.41377673, 1.        , 0.19558952, ..., 0.31926171, 0.32541831,\n",
       "        0.33181349],\n",
       "       ...,\n",
       "       [0.98466132, 0.55736405, 0.7004259 , ..., 0.62685729, 1.        ,\n",
       "        0.67570228],\n",
       "       [0.90450428, 0.62404414, 1.        , ..., 0.62083291, 0.92466285,\n",
       "        0.65695975],\n",
       "       [1.        , 0.43935466, 0.3684601 , ..., 0.58913633, 0.93551376,\n",
       "        0.70600512]])"
      ]
     },
     "execution_count": 20,
     "metadata": {},
     "output_type": "execute_result"
    }
   ],
   "source": [
    "np.apply_along_axis(normalize, 1, songs_compressed)"
   ]
  },
  {
   "cell_type": "code",
   "execution_count": 25,
   "id": "e5988e9f",
   "metadata": {},
   "outputs": [
    {
     "name": "stdout",
     "output_type": "stream",
     "text": [
      "(10, 10)\n",
      "(32028, 10)\n"
     ]
    }
   ],
   "source": [
    "s_matrix = np.diag(s)\n",
    "US = songs_compressed @ (s_matrix ** 0.5)\n",
    "print(s_matrix.shape)\n",
    "print(US.shape)\n",
    "print(US)"
   ]
  },
  {
   "cell_type": "code",
   "execution_count": 118,
   "id": "ed4f2322",
   "metadata": {},
   "outputs": [],
   "source": [
    "training_json = dict()\n",
    "\n",
    "for tag_scores, song_dict, weighted_tag_string in zip(songs_compressed, dataset_dict_list, weighted_list_of_str_tags):\n",
    "    weighted_tag_list = weighted_tag_string.split()\n",
    "    if len(weighted_tag_list) > 9:\n",
    "        training_song_data = dict()\n",
    "        training_song_data[\"lyrics\"] = song_dict['lyrics']\n",
    "        training_song_data[\"tag_list\"] = tag_scores.tolist()\n",
    "        song_title = song_dict[\"title\"]\n",
    "        training_json[song_title] = training_song_data\n"
   ]
  },
  {
   "cell_type": "code",
   "execution_count": 119,
   "id": "12dc28f8",
   "metadata": {},
   "outputs": [
    {
     "name": "stdout",
     "output_type": "stream",
     "text": [
      "23524\n"
     ]
    }
   ],
   "source": [
    "print(len(training_json))"
   ]
  },
  {
   "cell_type": "code",
   "execution_count": 120,
   "id": "4161c743",
   "metadata": {},
   "outputs": [],
   "source": [
    "with open('../nlp/songs_training_data.json', 'w') as fp:\n",
    "    json.dump(training_json, fp)"
   ]
  },
  {
   "cell_type": "code",
   "execution_count": 70,
   "metadata": {},
   "outputs": [],
   "source": [
    "# word_to_index = vectorizer.vocabulary_\n",
    "# index_to_word = {i:t for t,i in word_to_index.items()}\n",
    "# print(tags_compressed.shape)"
   ]
  },
  {
   "cell_type": "code",
   "execution_count": 71,
   "metadata": {},
   "outputs": [],
   "source": [
    "# from sklearn.preprocessing import normalize\n",
    "# words_compressed_normed = normalize(tags_compressed, axis = 1)"
   ]
  },
  {
   "cell_type": "code",
   "execution_count": 54,
   "metadata": {},
   "outputs": [],
   "source": [
    "# def closest_words(word_in, words_representation_in, k = 10):\n",
    "#     if word_in not in word_to_index: return \"Not in vocab.\"\n",
    "#     sims = words_representation_in.dot(words_representation_in[word_to_index[word_in],:])\n",
    "#     asort = np.argsort(-sims)[:k+1]\n",
    "#     return [(index_to_word[i],sims[i]) for i in asort[1:]]"
   ]
  },
  {
   "cell_type": "code",
   "execution_count": null,
   "metadata": {},
   "outputs": [],
   "source": [
    "# td_matrix_np = td_matrix.transpose().toarray()\n",
    "# td_matrix_np = normalize(td_matrix_np)"
   ]
  },
  {
   "cell_type": "code",
   "execution_count": null,
   "id": "96679ab2",
   "metadata": {},
   "outputs": [],
   "source": []
  }
 ],
 "metadata": {
  "kernelspec": {
   "display_name": "cs4300-env",
   "language": "python",
   "name": "python3"
  },
  "language_info": {
   "codemirror_mode": {
    "name": "ipython",
    "version": 3
   },
   "file_extension": ".py",
   "mimetype": "text/x-python",
   "name": "python",
   "nbconvert_exporter": "python",
   "pygments_lexer": "ipython3",
   "version": "3.7.6"
  }
 },
 "nbformat": 4,
 "nbformat_minor": 5
}
