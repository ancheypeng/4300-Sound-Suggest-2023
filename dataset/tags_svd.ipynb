{
 "cells": [
  {
   "cell_type": "code",
   "execution_count": 22,
   "id": "171ff1fe",
   "metadata": {},
   "outputs": [],
   "source": [
    "import pandas as pd\n",
    "import numpy as np\n",
    "import ast\n",
    "import json\n",
    "import re\n",
    "from collections import defaultdict\n",
    "import matplotlib.pyplot as plt\n",
    "from scipy.sparse.linalg import svds\n",
    "from sklearn.feature_extraction.text import TfidfVectorizer\n",
    "from math import isnan as isnan"
   ]
  },
  {
   "cell_type": "code",
   "execution_count": 23,
   "id": "8d612e9b",
   "metadata": {},
   "outputs": [],
   "source": [
    "df = pd.read_csv('data/final_dataset_reduced.csv')"
   ]
  },
  {
   "cell_type": "code",
   "execution_count": 24,
   "id": "87226350",
   "metadata": {},
   "outputs": [],
   "source": [
    "default_social_tags = {\n",
    " \"Ariana Grande\" : \"pop\",\n",
    " \"BTS (방탄소년단)\": \"pop\",\n",
    " \"Beyoncé\": \"rnb\",\n",
    " \"Billie Eilish\": \"indie pop\",\n",
    " \"Cardi B\": \"hip-hop\",\n",
    " \"Charlie Puth\": \"pop\",\n",
    " \"Coldplay\": \"alternative rock\",\n",
    " \"Drake\": \"hip-hop\",\n",
    " \"Dua Lipa\": \"pop\",\n",
    " \"Ed Sheeran\": \"pop\",\n",
    " \"Eminem\": \"hip-hop\",\n",
    " \"Justin Bieber\": \"pop\",\n",
    " \"Katy Perry\": \"pop\",\n",
    " \"Khalid\": \"rnb\",\n",
    " \"Lady Gaga\": \"pop\",\n",
    " \"Maroon5\": \"pop\",\n",
    " \"Nicki Minaj\": \"hip-hop\",\n",
    " \"Post Malone\": \"hip-hop\",\n",
    " \"Rihanna\": \"rnb\",\n",
    " \"Selena Gomez\": \"pop\",\n",
    " \"Taylor Swift\": \"pop\"\n",
    "}"
   ]
  },
  {
   "cell_type": "code",
   "execution_count": 25,
   "id": "cb834770",
   "metadata": {},
   "outputs": [],
   "source": [
    "ignore_tags = {'favorites', 'female vocalists', 'singer-songwriter', 'love', 'beautiful', 'male vocalists', 'seen live', 'favourites', 'favorite', 'female vocalist', 'favorite songs',' favourite', 'male vocalist', 'favourite songs', 'heard on pandora'}\n"
   ]
  },
  {
   "cell_type": "code",
   "execution_count": 26,
   "id": "3f46e7f0",
   "metadata": {},
   "outputs": [],
   "source": [
    "dataset_dict_list = df.to_dict('records')\n",
    "\n",
    "with open('data/good_tags.json', 'r') as fp:\n",
    "    good_tags = set(json.load(fp))\n",
    "    "
   ]
  },
  {
   "cell_type": "code",
   "execution_count": 27,
   "id": "244e51c1",
   "metadata": {},
   "outputs": [],
   "source": [
    "# dict of tags for each song as a weighted string ie. [\"pop pop pop pop\", \"hip-hop, hip-hop\"]\n",
    "weighted_list_of_str_tags = []\n",
    "\n",
    "good_tags_list = list(good_tags)\n",
    "\n",
    "for song_index, row in enumerate(dataset_dict_list):\n",
    "\n",
    "    song_social_tags = ast.literal_eval(row['social_tags']) if not pd.isna(row['social_tags']) else []\n",
    "    song_emotion_tags = ast.literal_eval(row['emotion_tags']) if not pd.isna(row['emotion_tags']) else []\n",
    "\n",
    "    # add default social tag to 21 artists\n",
    "    if row['artist'] in default_social_tags and len(song_social_tags) == 0:\n",
    "        song_social_tags = [(default_social_tags[row['artist']], 100)]\n",
    "\n",
    "        #add some random variation to tags\n",
    "        # for i in range(0):\n",
    "        #     song_social_tags.append((random.choice(good_tags_list), random.randint(10, 30)))\n",
    "\n",
    "    weighted_tags_list = []\n",
    "\n",
    "    for tag, value in (song_social_tags + song_emotion_tags):\n",
    "        value = int(value)\n",
    "        if (tag in good_tags) and (tag not in ignore_tags):\n",
    "            # add the number of tags * (value // 10)\n",
    "            for i in range(value // 10):\n",
    "                weighted_tags_list.append(re.sub(r'\\W+', '', tag))\n",
    "    \n",
    "    weighted_list_of_str_tags.append(\"` \".join(weighted_tags_list))"
   ]
  },
  {
   "cell_type": "code",
   "execution_count": 28,
   "id": "6ad8c529",
   "metadata": {},
   "outputs": [
    {
     "name": "stdout",
     "output_type": "stream",
     "text": [
      "(32028, 156)\n"
     ]
    }
   ],
   "source": [
    "vectorizer = TfidfVectorizer()\n",
    "td_matrix = vectorizer.fit_transform(weighted_list_of_str_tags)\n",
    "print(td_matrix.shape)"
   ]
  },
  {
   "cell_type": "code",
   "execution_count": 29,
   "id": "2db482ff",
   "metadata": {},
   "outputs": [
    {
     "name": "stdout",
     "output_type": "stream",
     "text": [
      "156\n"
     ]
    }
   ],
   "source": [
    "feature_names = vectorizer.get_feature_names() \n",
    "print(len(feature_names))"
   ]
  },
  {
   "cell_type": "code",
   "execution_count": 30,
   "id": "bd8aa4a8",
   "metadata": {},
   "outputs": [],
   "source": [
    "\n",
    "# # do SVD with a very large k (we usually use 100), just for the sake of getting many sorted singular values (aka importances)\n",
    "# u,s,v_trans = svds(td_matrix, k=143)"
   ]
  },
  {
   "cell_type": "code",
   "execution_count": 31,
   "id": "ede33a91",
   "metadata": {},
   "outputs": [],
   "source": [
    "# print(u.shape)\n",
    "# print(s.shape)\n",
    "# print(v_trans.shape)"
   ]
  },
  {
   "cell_type": "code",
   "execution_count": 32,
   "id": "a822c4af",
   "metadata": {},
   "outputs": [],
   "source": [
    "# import matplotlib\n",
    "# import numpy as np\n",
    "# import matplotlib.pyplot as plt\n",
    "# %matplotlib inline\n",
    "# plt.plot(s[::-1])\n",
    "# plt.xlabel(\"Singular value number\")\n",
    "# plt.ylabel(\"Singular value\")\n",
    "# plt.show()"
   ]
  },
  {
   "cell_type": "code",
   "execution_count": 33,
   "id": "98e5d7c0",
   "metadata": {},
   "outputs": [],
   "source": [
    "# these should be the three output matrices -> not sure if rest of code is important (normalization)\n",
    "u, s, v_trans = svds(td_matrix, k=15)\n",
    "v = v_trans.transpose()"
   ]
  },
  {
   "cell_type": "code",
   "execution_count": null,
   "id": "891d7df9",
   "metadata": {},
   "outputs": [],
   "source": [
    "# # generate plots to analyze svd tags\n",
    "\n",
    "new_tags_by_old_tags = (v.T).tolist()\n",
    "\n",
    "for new_tag_num in range(v.shape[1]):\n",
    "\n",
    "    tag_range = range(len(new_tags_by_old_tags[new_tag_num]))\n",
    "\n",
    "    fig = plt.figure(figsize=(200, 20))\n",
    "\n",
    "    ax = fig.add_subplot(111)\n",
    "\n",
    "    ax.bar(tag_range, new_tags_by_old_tags[new_tag_num], width =1)\n",
    "\n",
    "    ticks = [(1 * i) for i in tag_range]\n",
    "\n",
    "    ax.set_xticks(ticks)\n",
    "    ax.set_xticklabels(feature_names, rotation=90)\n",
    "\n",
    "    ax.grid(zorder=0)\n",
    "    ax.bar(tag_range, new_tags_by_old_tags[new_tag_num], width=1, align='center', color='skyblue', zorder=3)\n",
    "\n",
    "    # plt.show()\n",
    "    fig.savefig(fname = \"./newtag\" + str(new_tag_num) + \"_relations.png\")\n"
   ]
  },
  {
   "cell_type": "code",
   "execution_count": 44,
   "id": "a1725b52",
   "metadata": {},
   "outputs": [],
   "source": [
    "cols_to_invert = {3, 6, 9, 12}"
   ]
  },
  {
   "cell_type": "code",
   "execution_count": 45,
   "id": "33b2b6e3",
   "metadata": {},
   "outputs": [],
   "source": [
    "named_tags = {\n",
    "    \"Blues\": 0,\n",
    "    \"Alternative\": 1,\n",
    "    \"Metal\": 2,\n",
    "    \"Jazz\": 3,\n",
    "    \"Rnb\": 6,\n",
    "    \"Rock\": 8,\n",
    "    \"Punk\": 9,\n",
    "    \"Hip-Hop\": 10,\n",
    "    \"Country\": 12,\n",
    "    \"Pop\": 14\n",
    "}"
   ]
  },
  {
   "cell_type": "code",
   "execution_count": 46,
   "id": "89bc0690",
   "metadata": {},
   "outputs": [],
   "source": [
    "v = v.T\n",
    "for dim in cols_to_invert:\n",
    "    v[dim] *= -1\n",
    "v = v.T"
   ]
  },
  {
   "cell_type": "code",
   "execution_count": 47,
   "id": "545f7659",
   "metadata": {},
   "outputs": [
    {
     "data": {
      "text/plain": [
       "(32028, 15)"
      ]
     },
     "execution_count": 47,
     "metadata": {},
     "output_type": "execute_result"
    }
   ],
   "source": [
    "r = 0.5\n",
    "USr = u @ (np.diag(s) ** r)\n",
    "USr.shape"
   ]
  },
  {
   "cell_type": "code",
   "execution_count": 48,
   "id": "bc3a3e8d",
   "metadata": {},
   "outputs": [],
   "source": [
    "with open('tag_svd_embeddings.json', 'w') as fp:\n",
    "  json.dump(USr.tolist(), fp)"
   ]
  },
  {
   "cell_type": "code",
   "execution_count": 49,
   "id": "6fce103e",
   "metadata": {},
   "outputs": [],
   "source": [
    "with open('data/albums_to_song_indexes.json', 'r') as fp:\n",
    "  albums_to_song_indexes = json.load(fp)"
   ]
  },
  {
   "cell_type": "code",
   "execution_count": 50,
   "id": "0a5f1c6f",
   "metadata": {},
   "outputs": [],
   "source": [
    "albums_to_tag_embeddings = dict()"
   ]
  },
  {
   "cell_type": "code",
   "execution_count": 51,
   "id": "d8a01a5b",
   "metadata": {},
   "outputs": [],
   "source": [
    "for album, song_indexes in albums_to_song_indexes.items():\n",
    "    album_tag_embedding = np.zeros(15)\n",
    "    for s_idx in song_indexes:\n",
    "        album_tag_embedding += USr[s_idx]\n",
    "    \n",
    "    album_tag_embedding /= len(song_indexes)\n",
    "\n",
    "    albums_to_tag_embeddings[album] = album_tag_embedding.tolist()"
   ]
  },
  {
   "cell_type": "code",
   "execution_count": 52,
   "id": "497b7b3c",
   "metadata": {},
   "outputs": [],
   "source": [
    "with open('albums_to_tag_svd_embeddings.json', 'w') as fp:\n",
    "  json.dump(albums_to_tag_embeddings, fp)"
   ]
  },
  {
   "cell_type": "code",
   "execution_count": 53,
   "id": "286be44b",
   "metadata": {},
   "outputs": [],
   "source": [
    "with open('named_tags.json', 'w') as fp:\n",
    "  json.dump(named_tags, fp)"
   ]
  },
  {
   "cell_type": "code",
   "execution_count": null,
   "id": "96679ab2",
   "metadata": {},
   "outputs": [],
   "source": []
  }
 ],
 "metadata": {
  "kernelspec": {
   "display_name": "cs4300-env",
   "language": "python",
   "name": "python3"
  },
  "language_info": {
   "codemirror_mode": {
    "name": "ipython",
    "version": 3
   },
   "file_extension": ".py",
   "mimetype": "text/x-python",
   "name": "python",
   "nbconvert_exporter": "python",
   "pygments_lexer": "ipython3",
   "version": "3.7.6"
  }
 },
 "nbformat": 4,
 "nbformat_minor": 5
}
