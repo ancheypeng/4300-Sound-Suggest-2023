{
 "cells": [
  {
   "cell_type": "code",
   "execution_count": 52,
   "metadata": {},
   "outputs": [],
   "source": [
    "from sklearn.datasets import load_diabetes\n",
    "from torch.utils.data import Dataset, DataLoader\n",
    "import torch\n",
    "import torch.nn as nn \n",
    "import json"
   ]
  },
  {
   "cell_type": "code",
   "execution_count": 53,
   "metadata": {},
   "outputs": [],
   "source": [
    "with open('songs_training_data.json', 'r') as fp:\n",
    "    songs_training_data = json.load(fp)"
   ]
  },
  {
   "cell_type": "code",
   "execution_count": 54,
   "metadata": {},
   "outputs": [],
   "source": [
    "num_songs = len(songs_training_data)"
   ]
  },
  {
   "cell_type": "code",
   "execution_count": 55,
   "metadata": {},
   "outputs": [],
   "source": [
    "class trainingdataset(Dataset):\n",
    "    def __init__(self, num_songs):\n",
    "        self.x = torch.tensor((num_songs, 10),dtype=torch.float32)\n",
    "        self.y = torch.tensor((num_songs,),dtype=torch.float32)\n",
    "        self.length = num_songs\n",
    "\n",
    "    def __getitem__(self, index):\n",
    "        return (self.x[index], self.y[index])\n",
    "    \n",
    "    def __len__(self):\n",
    "        return self.length\n",
    "\n",
    "\n",
    "training_dataset = trainingdataset(num_songs)"
   ]
  },
  {
   "cell_type": "code",
   "execution_count": 56,
   "metadata": {},
   "outputs": [],
   "source": [
    "dataloader = DataLoader(dataset=training_dataset,shuffle=True,batch_size=2)"
   ]
  },
  {
   "cell_type": "code",
   "execution_count": 14,
   "metadata": {},
   "outputs": [],
   "source": [
    "class net(nn.Module):\n",
    "  def __init__(self,input_size, output_size):\n",
    "    super(net,self).__init__()\n",
    "    self.l1 = nn.Linear(input_size,5)\n",
    "    self.relu = nn.ReLU()\n",
    "    self.l2 = nn.Linear(5,output_size)\n",
    "  def forward(self, x):\n",
    "    output = self.l1(x) \n",
    "    output = self.relu(output)\n",
    "    output = self.l2(output)\n",
    "    return output"
   ]
  },
  {
   "cell_type": "code",
   "execution_count": null,
   "metadata": {},
   "outputs": [],
   "source": []
  }
 ],
 "metadata": {
  "kernelspec": {
   "display_name": "cs4300-env",
   "language": "python",
   "name": "python3"
  },
  "language_info": {
   "codemirror_mode": {
    "name": "ipython",
    "version": 3
   },
   "file_extension": ".py",
   "mimetype": "text/x-python",
   "name": "python",
   "nbconvert_exporter": "python",
   "pygments_lexer": "ipython3",
   "version": "3.7.6"
  },
  "orig_nbformat": 4
 },
 "nbformat": 4,
 "nbformat_minor": 2
}
